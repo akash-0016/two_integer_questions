{
  "nbformat": 4,
  "nbformat_minor": 0,
  "metadata": {
    "colab": {
      "provenance": [],
      "authorship_tag": "ABX9TyN1kUpAZXXJAoj9jaoJgjd5",
      "include_colab_link": true
    },
    "kernelspec": {
      "name": "python3",
      "display_name": "Python 3"
    },
    "language_info": {
      "name": "python"
    }
  },
  "cells": [
    {
      "cell_type": "markdown",
      "metadata": {
        "id": "view-in-github",
        "colab_type": "text"
      },
      "source": [
        "<a href=\"https://colab.research.google.com/github/akash-0016/two_integer_questions/blob/main/two_integers_questions.ipynb\" target=\"_parent\"><img src=\"https://colab.research.google.com/assets/colab-badge.svg\" alt=\"Open In Colab\"/></a>"
      ]
    },
    {
      "cell_type": "code",
      "execution_count": null,
      "metadata": {
        "colab": {
          "base_uri": "https://localhost:8080/"
        },
        "id": "_aqpIsu4bOAO",
        "outputId": "dfd5070a-f86e-475a-cd91-44b01aeb4141"
      },
      "outputs": [
        {
          "output_type": "stream",
          "name": "stdout",
          "text": [
            "enter the first number5\n",
            "enter the first number1\n",
            "invalid input\n"
          ]
        }
      ],
      "source": [
        "m=int(input(\"enter the first number\"))\n",
        "n=int(input(\"enter the first number\"))\n",
        "if m<=n:\n",
        "  for i in range(m,n+1):\n",
        "    j+=i**3\n",
        "  print(j)\n",
        "else:\n",
        "  print(\"invalid input\")"
      ]
    },
    {
      "cell_type": "code",
      "source": [
        "m=int(input(\"enter the first number\"))\n",
        "n=int(input(\"enter the first number\"))\n",
        "j=1\n",
        "if m<=n:\n",
        "  for i in range(m,n+1):\n",
        "    j=j*i\n",
        "  print(j)\n",
        "else:\n",
        "  print(\"invalid input\")"
      ],
      "metadata": {
        "colab": {
          "base_uri": "https://localhost:8080/"
        },
        "id": "5OMPWcyRdiuA",
        "outputId": "18f7cd1c-89c3-428d-8768-f4011a3357ac"
      },
      "execution_count": null,
      "outputs": [
        {
          "output_type": "stream",
          "name": "stdout",
          "text": [
            "enter the first number2\n",
            "enter the first number4\n",
            "24\n"
          ]
        }
      ]
    },
    {
      "cell_type": "code",
      "source": [
        "m=int(input(\"enter the first number\"))\n",
        "n=int(input(\"enter the first number\"))\n",
        "j=1\n",
        "if m<=n:\n",
        "  for i in range(m,n+1):\n",
        "    if i%2==0:\n",
        "      j=j*i\n",
        "  print(j)\n",
        "else:\n",
        "  print(\"invalid input\")"
      ],
      "metadata": {
        "colab": {
          "base_uri": "https://localhost:8080/"
        },
        "id": "IZHGbOfQeQ8x",
        "outputId": "00578ed4-864e-4627-f436-1f131d4c8cd8"
      },
      "execution_count": null,
      "outputs": [
        {
          "output_type": "stream",
          "name": "stdout",
          "text": [
            "enter the first number2\n",
            "enter the first number6\n",
            "48\n"
          ]
        }
      ]
    },
    {
      "cell_type": "code",
      "source": [
        "m=int(input(\"enter the first number\"))\n",
        "n=int(input(\"enter the first number\"))\n",
        "j=1\n",
        "if m<=n:\n",
        "  for i in range(m,n+1):\n",
        "    if i%2!=0:\n",
        "      j=j*i\n",
        "  print(j)\n",
        "else:\n",
        "  print(\"invalid input\")"
      ],
      "metadata": {
        "colab": {
          "base_uri": "https://localhost:8080/"
        },
        "id": "m29iVZ5OfyJ8",
        "outputId": "550a4e24-89f4-46b6-da7a-c396e0dab041"
      },
      "execution_count": null,
      "outputs": [
        {
          "output_type": "stream",
          "name": "stdout",
          "text": [
            "enter the first number1\n",
            "enter the first number5\n",
            "15\n"
          ]
        }
      ]
    },
    {
      "cell_type": "code",
      "source": [],
      "metadata": {
        "id": "eNqI263TjNhx"
      },
      "execution_count": null,
      "outputs": []
    },
    {
      "cell_type": "code",
      "source": [
        "# def factorial(int n):\n",
        "#   while n>0:\n",
        "#       fact=n*(n-1)\n",
        "#       n-=1\n",
        "\n",
        "\n",
        "# m=int(input(\"enter the first number\"))\n",
        "# n=int(input(\"enter the first number\"))\n",
        "# j=1\n",
        "# s=0\n",
        "# if m<=n:\n",
        "#   factorial(m)\n",
        "#   # for i in range(m,n+1):\n",
        "#   #   while i>1:\n",
        "#   #     j+=i*(i-1)\n",
        "#   #     i-=1\n",
        "#   #   s+=j\n",
        "#   # print(s)\n",
        "# else:\n",
        "#   print(\"invalid input\")"
      ],
      "metadata": {
        "colab": {
          "base_uri": "https://localhost:8080/"
        },
        "id": "OmOyrwYQgi6Q",
        "outputId": "e3b1191d-ae70-4632-d7c0-fa24cf165a16"
      },
      "execution_count": null,
      "outputs": [
        {
          "output_type": "stream",
          "name": "stdout",
          "text": [
            "enter the first number1\n",
            "enter the first number3\n",
            "16\n"
          ]
        }
      ]
    },
    {
      "cell_type": "code",
      "source": [],
      "metadata": {
        "id": "LVyHwSnuiI6y"
      },
      "execution_count": null,
      "outputs": []
    }
  ]
}